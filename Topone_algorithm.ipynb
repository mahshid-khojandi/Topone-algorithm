{
  "nbformat": 4,
  "nbformat_minor": 0,
  "metadata": {
    "colab": {
      "provenance": [],
      "authorship_tag": "ABX9TyP70POpjISF49jqG12h49Li",
      "include_colab_link": true
    },
    "kernelspec": {
      "name": "python3",
      "display_name": "Python 3"
    },
    "language_info": {
      "name": "python"
    }
  },
  "cells": [
    {
      "cell_type": "markdown",
      "metadata": {
        "id": "view-in-github",
        "colab_type": "text"
      },
      "source": [
        "<a href=\"https://colab.research.google.com/github/mahshid-khojandi/Topone-algorithm/blob/main/Topone_algorithm.ipynb\" target=\"_parent\"><img src=\"https://colab.research.google.com/assets/colab-badge.svg\" alt=\"Open In Colab\"/></a>"
      ]
    },
    {
      "cell_type": "code",
      "source": [
        "a = [1, 2, 3, 4, 5, 2, 3, 2]\n",
        "def topone(arr):\n",
        "    repeat = {}\n",
        "    result = []\n",
        "    # save number of repeat\n",
        "    max_re = 0\n",
        "    for i in arr:\n",
        "        if i in repeat:\n",
        "            repeat[i] += 1\n",
        "        else:\n",
        "            repeat[i] = 1\n",
        "    max_re = max(repeat.values())\n",
        "    for i in repeat.keys():\n",
        "        if repeat[i] == max_re:\n",
        "            result.append(i)\n",
        "        else:\n",
        "            continue\n",
        "    return repeat, result\n",
        "\n",
        "print(topone(a))"
      ],
      "metadata": {
        "colab": {
          "base_uri": "https://localhost:8080/"
        },
        "id": "dWFRcYsgxwbk",
        "outputId": "20965363-9b7c-46c4-edf2-62fc6539353f"
      },
      "execution_count": 4,
      "outputs": [
        {
          "output_type": "stream",
          "name": "stdout",
          "text": [
            "({1: 1, 2: 3, 3: 2, 4: 1, 5: 1}, [2])\n"
          ]
        }
      ]
    },
    {
      "cell_type": "markdown",
      "source": [
        "# **Explanation**\n",
        "\n",
        "---\n",
        "\n",
        "This algorithm finds the most repeated values   in an array.\n",
        "\n",
        "**output**: ({1: 1, 2: 3, 3: 2, 4: 1, 5: 1}, [2])"
      ],
      "metadata": {
        "id": "3welR-RnzS3K"
      }
    }
  ]
}
